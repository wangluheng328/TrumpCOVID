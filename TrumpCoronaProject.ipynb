{
 "cells": [
  {
   "cell_type": "markdown",
   "metadata": {},
   "source": [
    "# Project: Trump and Population Sentiment Over Coronavirus"
   ]
  },
  {
   "cell_type": "markdown",
   "metadata": {},
   "source": [
    "__Author__: _Luheng (Wes) Wang_ , lw2534@nyu.edu, N10047237"
   ]
  },
  {
   "cell_type": "markdown",
   "metadata": {},
   "source": [
    "<b>"
   ]
  },
  {
   "cell_type": "markdown",
   "metadata": {},
   "source": [
    "<b>"
   ]
  },
  {
   "cell_type": "markdown",
   "metadata": {},
   "source": [
    "<b>"
   ]
  },
  {
   "cell_type": "markdown",
   "metadata": {},
   "source": [
    "## Part 1: Pre-step"
   ]
  },
  {
   "cell_type": "markdown",
   "metadata": {},
   "source": [
    "President Trump's twitter has always been interesing, I can't find any other head of a country being this enthusiastic in communicating with the public through social media. Especially in a time like this, the Coronavirus seems to push him to express more than usual. Despite my personal political standing, I want to analyze the power of his unique way of communication, specifically upon the incident of COVID-19. I suggest that as the President of the US, what he says, writes, or posts ought to have certain linkage with the majority, or even causation. This project serves to see whether Trump's sentiment in tweets is associated with that of the general public. This project is political-neutral, or, doens't contain any political content. Please feel free to go on!"
   ]
  },
  {
   "cell_type": "markdown",
   "metadata": {},
   "source": [
    "<b>"
   ]
  },
  {
   "cell_type": "markdown",
   "metadata": {},
   "source": [
    "## Part 2: Data & Initial Analysis"
   ]
  },
  {
   "cell_type": "markdown",
   "metadata": {},
   "source": [
    "There's no data ready for me to use, so I have to generate my own. This is a long process, and I will not be able to answer the four guideline questions until I reach the end of this section."
   ]
  },
  {
   "cell_type": "markdown",
   "metadata": {},
   "source": [
    "First things always, imports:"
   ]
  },
  {
   "cell_type": "code",
   "execution_count": 1,
   "metadata": {},
   "outputs": [],
   "source": [
    "import pandas as pd\n",
    "import numpy as np\n",
    "import urllib.request\n",
    "import glob\n",
    "import io\n",
    "import csv\n",
    "import re\n",
    "import seaborn as sns\n",
    "import matplotlib.pyplot as plt\n",
    "from sklearn import preprocessing\n",
    "from twitter_scraper import get_tweets\n",
    "from tqdm import tqdm\n",
    "import statsmodels.formula.api as sm\n",
    "\n",
    "\n",
    "pd.set_option('display.max_columns', 50)"
   ]
  },
  {
   "cell_type": "markdown",
   "metadata": {},
   "source": [
    "I will generate sentiment data for population and Trump separately. First, I believe that if I have a table of frequent vocabularies in COVID19-related tweets, I would be able to convert them into sentiment values. Fortunately, I found in Github that someone has generated those tables for the past two months. I will import them directly from the website and edit each of them a little."
   ]
  },
  {
   "cell_type": "code",
   "execution_count": 2,
   "metadata": {},
   "outputs": [
    {
     "name": "stderr",
     "output_type": "stream",
     "text": [
      "100%|██████████████████████████████████████████████████████████████████████████████████| 37/37 [00:04<00:00,  7.41it/s]\n"
     ]
    }
   ],
   "source": [
    "# generate all dates which the github source I'm using has corresponding data,\n",
    "# so that I can further insert them into urls\n",
    "\n",
    "mar = []\n",
    "for i in range(22,32):\n",
    "    mar.append(str(i))\n",
    "for i in range(len(mar)):\n",
    "    mar[i] = '2020-03-' + mar[i]\n",
    "apr = []\n",
    "for i in range(1,31):\n",
    "    if i < 10:\n",
    "        apr.append('0' + str(i))\n",
    "    else:\n",
    "        apr.append(str(i))\n",
    "for i in range(len(apr)):\n",
    "    apr[i] = '2020-04-' + apr[i]\n",
    "para = mar + apr\n",
    "\n",
    "# generate urls to access those files\n",
    "\n",
    "urls = []\n",
    "for i in para:\n",
    "    urls.append('https://raw.githubusercontent.com/thepanacealab/covid19_twitter/master/'\\\n",
    "                'dailies/' + i + '/' + i + '_top1000trigrams.csv')\n",
    "\n",
    "# create a large dataframe with each day's count in separated columns,\n",
    "# the datafram is created by joining data from each day.\n",
    "\n",
    "df = pd.read_csv(urls[0])\n",
    "df.rename(columns = {'counts' : para[0][-5:] +' counts'}, inplace = True)\n",
    "# for some reason 38th iteration is giving http 404, so here I will just leave out the last two days\n",
    "for i in tqdm(range(1,len(urls) - 2)):\n",
    "    temp = pd.read_csv(urls[i])\n",
    "    temp.rename(columns = {'counts' : para[i][-5:] +' counts'}, inplace = True)\n",
    "    df = df.merge(temp, left_on='gram', right_on='gram', how = 'outer')"
   ]
  },
  {
   "cell_type": "code",
   "execution_count": 3,
   "metadata": {},
   "outputs": [
    {
     "data": {
      "text/plain": [
       "17509"
      ]
     },
     "metadata": {},
     "output_type": "display_data"
    },
    {
     "data": {
      "text/plain": [
       "1000"
      ]
     },
     "metadata": {},
     "output_type": "display_data"
    },
    {
     "data": {
      "text/plain": [
       "0       NaN\n",
       "1       NaN\n",
       "2       NaN\n",
       "3       NaN\n",
       "4       NaN\n",
       "         ..\n",
       "17504   NaN\n",
       "17505   NaN\n",
       "17506   NaN\n",
       "17507   NaN\n",
       "17508   NaN\n",
       "Name: 03-29 counts, Length: 17509, dtype: float64"
      ]
     },
     "metadata": {},
     "output_type": "display_data"
    },
    {
     "data": {
      "text/plain": [
       "254912.0"
      ]
     },
     "metadata": {},
     "output_type": "display_data"
    },
    {
     "data": {
      "text/plain": [
       "5000    226.0\n",
       "5001    224.0\n",
       "5002    222.0\n",
       "5003    221.0\n",
       "5004    220.0\n",
       "Name: 03-31 counts, dtype: float64"
      ]
     },
     "metadata": {},
     "output_type": "display_data"
    },
    {
     "data": {
      "text/plain": [
       "17509"
      ]
     },
     "metadata": {},
     "output_type": "display_data"
    }
   ],
   "source": [
    "# see what the dataframes are like to check the original dataframes are merged correctly\n",
    "\n",
    "df_single = pd.read_csv(urls[0])\n",
    "display(df.shape[0], df_single.shape[0],\n",
    "       df.iloc[:,8], np.sum(df.iloc[:,8]),\n",
    "       df.iloc[5000:5005,10], len(df.gram.unique()))\n"
   ]
  },
  {
   "cell_type": "code",
   "execution_count": 4,
   "metadata": {},
   "outputs": [
    {
     "data": {
      "text/html": [
       "<div>\n",
       "<style scoped>\n",
       "    .dataframe tbody tr th:only-of-type {\n",
       "        vertical-align: middle;\n",
       "    }\n",
       "\n",
       "    .dataframe tbody tr th {\n",
       "        vertical-align: top;\n",
       "    }\n",
       "\n",
       "    .dataframe thead th {\n",
       "        text-align: right;\n",
       "    }\n",
       "</style>\n",
       "<table border=\"1\" class=\"dataframe\">\n",
       "  <thead>\n",
       "    <tr style=\"text-align: right;\">\n",
       "      <th></th>\n",
       "      <th>vocab1</th>\n",
       "      <th>vocab2</th>\n",
       "      <th>vocab3</th>\n",
       "      <th>phrase</th>\n",
       "      <th>03-22 counts</th>\n",
       "      <th>03-23 counts</th>\n",
       "      <th>03-24 counts</th>\n",
       "      <th>03-25 counts</th>\n",
       "      <th>03-26 counts</th>\n",
       "      <th>03-27 counts</th>\n",
       "      <th>03-28 counts</th>\n",
       "      <th>03-29 counts</th>\n",
       "      <th>03-30 counts</th>\n",
       "      <th>03-31 counts</th>\n",
       "      <th>04-01 counts</th>\n",
       "      <th>04-02 counts</th>\n",
       "      <th>04-03 counts</th>\n",
       "      <th>04-04 counts</th>\n",
       "      <th>04-05 counts</th>\n",
       "      <th>04-06 counts</th>\n",
       "      <th>04-07 counts</th>\n",
       "      <th>04-08 counts</th>\n",
       "      <th>04-09 counts</th>\n",
       "      <th>04-10 counts</th>\n",
       "      <th>04-11 counts</th>\n",
       "      <th>04-12 counts</th>\n",
       "      <th>04-13 counts</th>\n",
       "      <th>04-14 counts</th>\n",
       "      <th>04-15 counts</th>\n",
       "      <th>04-16 counts</th>\n",
       "      <th>04-17 counts</th>\n",
       "      <th>04-18 counts</th>\n",
       "      <th>04-19 counts</th>\n",
       "      <th>04-20 counts</th>\n",
       "      <th>04-21 counts</th>\n",
       "      <th>04-22 counts</th>\n",
       "      <th>04-23 counts</th>\n",
       "      <th>04-24 counts</th>\n",
       "      <th>04-25 counts</th>\n",
       "      <th>04-26 counts</th>\n",
       "      <th>04-27 counts</th>\n",
       "      <th>04-28 counts</th>\n",
       "    </tr>\n",
       "  </thead>\n",
       "  <tbody>\n",
       "    <tr>\n",
       "      <td>0</td>\n",
       "      <td>trying</td>\n",
       "      <td>times</td>\n",
       "      <td>share</td>\n",
       "      <td>trying times share</td>\n",
       "      <td>4249.0</td>\n",
       "      <td>1826.0</td>\n",
       "      <td>481.0</td>\n",
       "      <td>146.0</td>\n",
       "      <td>195.0</td>\n",
       "      <td>163.0</td>\n",
       "      <td>0.0</td>\n",
       "      <td>0.0</td>\n",
       "      <td>0.0</td>\n",
       "      <td>212.0</td>\n",
       "      <td>0.0</td>\n",
       "      <td>0.0</td>\n",
       "      <td>0.0</td>\n",
       "      <td>0.0</td>\n",
       "      <td>0.0</td>\n",
       "      <td>0.0</td>\n",
       "      <td>0.0</td>\n",
       "      <td>0.0</td>\n",
       "      <td>0.0</td>\n",
       "      <td>0.0</td>\n",
       "      <td>0.0</td>\n",
       "      <td>0.0</td>\n",
       "      <td>0.0</td>\n",
       "      <td>0.0</td>\n",
       "      <td>0.0</td>\n",
       "      <td>0.0</td>\n",
       "      <td>0.0</td>\n",
       "      <td>0.0</td>\n",
       "      <td>0.0</td>\n",
       "      <td>0.0</td>\n",
       "      <td>0.0</td>\n",
       "      <td>0.0</td>\n",
       "      <td>0.0</td>\n",
       "      <td>0.0</td>\n",
       "      <td>0.0</td>\n",
       "      <td>0.0</td>\n",
       "      <td>0.0</td>\n",
       "      <td>0.0</td>\n",
       "    </tr>\n",
       "    <tr>\n",
       "      <td>1</td>\n",
       "      <td>italy</td>\n",
       "      <td>trying</td>\n",
       "      <td>times</td>\n",
       "      <td>italy trying times</td>\n",
       "      <td>4229.0</td>\n",
       "      <td>1815.0</td>\n",
       "      <td>479.0</td>\n",
       "      <td>145.0</td>\n",
       "      <td>186.0</td>\n",
       "      <td>160.0</td>\n",
       "      <td>0.0</td>\n",
       "      <td>0.0</td>\n",
       "      <td>0.0</td>\n",
       "      <td>212.0</td>\n",
       "      <td>0.0</td>\n",
       "      <td>0.0</td>\n",
       "      <td>0.0</td>\n",
       "      <td>0.0</td>\n",
       "      <td>0.0</td>\n",
       "      <td>0.0</td>\n",
       "      <td>0.0</td>\n",
       "      <td>0.0</td>\n",
       "      <td>0.0</td>\n",
       "      <td>0.0</td>\n",
       "      <td>0.0</td>\n",
       "      <td>0.0</td>\n",
       "      <td>0.0</td>\n",
       "      <td>0.0</td>\n",
       "      <td>0.0</td>\n",
       "      <td>0.0</td>\n",
       "      <td>0.0</td>\n",
       "      <td>0.0</td>\n",
       "      <td>0.0</td>\n",
       "      <td>0.0</td>\n",
       "      <td>0.0</td>\n",
       "      <td>0.0</td>\n",
       "      <td>0.0</td>\n",
       "      <td>0.0</td>\n",
       "      <td>0.0</td>\n",
       "      <td>0.0</td>\n",
       "      <td>0.0</td>\n",
       "      <td>0.0</td>\n",
       "    </tr>\n",
       "    <tr>\n",
       "      <td>2</td>\n",
       "      <td>stand</td>\n",
       "      <td>italy</td>\n",
       "      <td>trying</td>\n",
       "      <td>stand italy trying</td>\n",
       "      <td>4228.0</td>\n",
       "      <td>1814.0</td>\n",
       "      <td>479.0</td>\n",
       "      <td>145.0</td>\n",
       "      <td>186.0</td>\n",
       "      <td>159.0</td>\n",
       "      <td>0.0</td>\n",
       "      <td>0.0</td>\n",
       "      <td>0.0</td>\n",
       "      <td>212.0</td>\n",
       "      <td>0.0</td>\n",
       "      <td>0.0</td>\n",
       "      <td>0.0</td>\n",
       "      <td>0.0</td>\n",
       "      <td>0.0</td>\n",
       "      <td>0.0</td>\n",
       "      <td>0.0</td>\n",
       "      <td>0.0</td>\n",
       "      <td>0.0</td>\n",
       "      <td>0.0</td>\n",
       "      <td>0.0</td>\n",
       "      <td>0.0</td>\n",
       "      <td>0.0</td>\n",
       "      <td>0.0</td>\n",
       "      <td>0.0</td>\n",
       "      <td>0.0</td>\n",
       "      <td>0.0</td>\n",
       "      <td>0.0</td>\n",
       "      <td>0.0</td>\n",
       "      <td>0.0</td>\n",
       "      <td>0.0</td>\n",
       "      <td>0.0</td>\n",
       "      <td>0.0</td>\n",
       "      <td>0.0</td>\n",
       "      <td>0.0</td>\n",
       "      <td>0.0</td>\n",
       "      <td>0.0</td>\n",
       "      <td>0.0</td>\n",
       "    </tr>\n",
       "    <tr>\n",
       "      <td>3</td>\n",
       "      <td>times</td>\n",
       "      <td>share</td>\n",
       "      <td>support</td>\n",
       "      <td>times share support</td>\n",
       "      <td>4223.0</td>\n",
       "      <td>1815.0</td>\n",
       "      <td>481.0</td>\n",
       "      <td>146.0</td>\n",
       "      <td>187.0</td>\n",
       "      <td>160.0</td>\n",
       "      <td>0.0</td>\n",
       "      <td>0.0</td>\n",
       "      <td>0.0</td>\n",
       "      <td>211.0</td>\n",
       "      <td>0.0</td>\n",
       "      <td>0.0</td>\n",
       "      <td>0.0</td>\n",
       "      <td>0.0</td>\n",
       "      <td>0.0</td>\n",
       "      <td>0.0</td>\n",
       "      <td>0.0</td>\n",
       "      <td>0.0</td>\n",
       "      <td>0.0</td>\n",
       "      <td>0.0</td>\n",
       "      <td>0.0</td>\n",
       "      <td>0.0</td>\n",
       "      <td>0.0</td>\n",
       "      <td>0.0</td>\n",
       "      <td>0.0</td>\n",
       "      <td>0.0</td>\n",
       "      <td>0.0</td>\n",
       "      <td>0.0</td>\n",
       "      <td>0.0</td>\n",
       "      <td>0.0</td>\n",
       "      <td>0.0</td>\n",
       "      <td>0.0</td>\n",
       "      <td>0.0</td>\n",
       "      <td>0.0</td>\n",
       "      <td>0.0</td>\n",
       "      <td>0.0</td>\n",
       "      <td>0.0</td>\n",
       "      <td>0.0</td>\n",
       "    </tr>\n",
       "    <tr>\n",
       "      <td>4</td>\n",
       "      <td>share</td>\n",
       "      <td>support</td>\n",
       "      <td>italian</td>\n",
       "      <td>share support italian</td>\n",
       "      <td>4217.0</td>\n",
       "      <td>1815.0</td>\n",
       "      <td>480.0</td>\n",
       "      <td>146.0</td>\n",
       "      <td>186.0</td>\n",
       "      <td>160.0</td>\n",
       "      <td>0.0</td>\n",
       "      <td>0.0</td>\n",
       "      <td>0.0</td>\n",
       "      <td>211.0</td>\n",
       "      <td>0.0</td>\n",
       "      <td>0.0</td>\n",
       "      <td>0.0</td>\n",
       "      <td>0.0</td>\n",
       "      <td>0.0</td>\n",
       "      <td>0.0</td>\n",
       "      <td>0.0</td>\n",
       "      <td>0.0</td>\n",
       "      <td>0.0</td>\n",
       "      <td>0.0</td>\n",
       "      <td>0.0</td>\n",
       "      <td>0.0</td>\n",
       "      <td>0.0</td>\n",
       "      <td>0.0</td>\n",
       "      <td>0.0</td>\n",
       "      <td>0.0</td>\n",
       "      <td>0.0</td>\n",
       "      <td>0.0</td>\n",
       "      <td>0.0</td>\n",
       "      <td>0.0</td>\n",
       "      <td>0.0</td>\n",
       "      <td>0.0</td>\n",
       "      <td>0.0</td>\n",
       "      <td>0.0</td>\n",
       "      <td>0.0</td>\n",
       "      <td>0.0</td>\n",
       "      <td>0.0</td>\n",
       "      <td>0.0</td>\n",
       "    </tr>\n",
       "  </tbody>\n",
       "</table>\n",
       "</div>"
      ],
      "text/plain": [
       "   vocab1   vocab2   vocab3                 phrase  03-22 counts  \\\n",
       "0  trying    times    share     trying times share        4249.0   \n",
       "1   italy   trying    times     italy trying times        4229.0   \n",
       "2   stand    italy   trying     stand italy trying        4228.0   \n",
       "3   times    share  support    times share support        4223.0   \n",
       "4   share  support  italian  share support italian        4217.0   \n",
       "\n",
       "   03-23 counts  03-24 counts  03-25 counts  03-26 counts  03-27 counts  \\\n",
       "0        1826.0         481.0         146.0         195.0         163.0   \n",
       "1        1815.0         479.0         145.0         186.0         160.0   \n",
       "2        1814.0         479.0         145.0         186.0         159.0   \n",
       "3        1815.0         481.0         146.0         187.0         160.0   \n",
       "4        1815.0         480.0         146.0         186.0         160.0   \n",
       "\n",
       "   03-28 counts  03-29 counts  03-30 counts  03-31 counts  04-01 counts  \\\n",
       "0           0.0           0.0           0.0         212.0           0.0   \n",
       "1           0.0           0.0           0.0         212.0           0.0   \n",
       "2           0.0           0.0           0.0         212.0           0.0   \n",
       "3           0.0           0.0           0.0         211.0           0.0   \n",
       "4           0.0           0.0           0.0         211.0           0.0   \n",
       "\n",
       "   04-02 counts  04-03 counts  04-04 counts  04-05 counts  04-06 counts  \\\n",
       "0           0.0           0.0           0.0           0.0           0.0   \n",
       "1           0.0           0.0           0.0           0.0           0.0   \n",
       "2           0.0           0.0           0.0           0.0           0.0   \n",
       "3           0.0           0.0           0.0           0.0           0.0   \n",
       "4           0.0           0.0           0.0           0.0           0.0   \n",
       "\n",
       "   04-07 counts  04-08 counts  04-09 counts  04-10 counts  04-11 counts  \\\n",
       "0           0.0           0.0           0.0           0.0           0.0   \n",
       "1           0.0           0.0           0.0           0.0           0.0   \n",
       "2           0.0           0.0           0.0           0.0           0.0   \n",
       "3           0.0           0.0           0.0           0.0           0.0   \n",
       "4           0.0           0.0           0.0           0.0           0.0   \n",
       "\n",
       "   04-12 counts  04-13 counts  04-14 counts  04-15 counts  04-16 counts  \\\n",
       "0           0.0           0.0           0.0           0.0           0.0   \n",
       "1           0.0           0.0           0.0           0.0           0.0   \n",
       "2           0.0           0.0           0.0           0.0           0.0   \n",
       "3           0.0           0.0           0.0           0.0           0.0   \n",
       "4           0.0           0.0           0.0           0.0           0.0   \n",
       "\n",
       "   04-17 counts  04-18 counts  04-19 counts  04-20 counts  04-21 counts  \\\n",
       "0           0.0           0.0           0.0           0.0           0.0   \n",
       "1           0.0           0.0           0.0           0.0           0.0   \n",
       "2           0.0           0.0           0.0           0.0           0.0   \n",
       "3           0.0           0.0           0.0           0.0           0.0   \n",
       "4           0.0           0.0           0.0           0.0           0.0   \n",
       "\n",
       "   04-22 counts  04-23 counts  04-24 counts  04-25 counts  04-26 counts  \\\n",
       "0           0.0           0.0           0.0           0.0           0.0   \n",
       "1           0.0           0.0           0.0           0.0           0.0   \n",
       "2           0.0           0.0           0.0           0.0           0.0   \n",
       "3           0.0           0.0           0.0           0.0           0.0   \n",
       "4           0.0           0.0           0.0           0.0           0.0   \n",
       "\n",
       "   04-27 counts  04-28 counts  \n",
       "0           0.0           0.0  \n",
       "1           0.0           0.0  \n",
       "2           0.0           0.0  \n",
       "3           0.0           0.0  \n",
       "4           0.0           0.0  "
      ]
     },
     "execution_count": 4,
     "metadata": {},
     "output_type": "execute_result"
    }
   ],
   "source": [
    "# clean and format the df\n",
    "# note that the datasets are pretty clean since they are well-generated by the github author \n",
    "\n",
    "df.fillna(0, inplace = True)\n",
    "df.gram = [phrase.lower() for phrase in df.gram]\n",
    "df.rename(columns = {'gram':'phrase'}, inplace = True)\n",
    "\n",
    "# split the phrases into separate vocaabs so that we can calculate the sentiment more easily\n",
    "\n",
    "vocab1 = [phrase.split()[0] for phrase in df.phrase]\n",
    "vocab2 = [phrase.split()[1] for phrase in df.phrase]\n",
    "vocab3 = [phrase.split()[2] for phrase in df.phrase]\n",
    "df['vocab1'] = vocab1\n",
    "df['vocab2'] = vocab2\n",
    "df['vocab3'] = vocab3\n",
    "col = list(df.columns.values)\n",
    "col = col[-3:] + col[0:-3]\n",
    "df = df[col]\n",
    "df.head()"
   ]
  },
  {
   "cell_type": "code",
   "execution_count": 5,
   "metadata": {},
   "outputs": [
    {
     "data": {
      "text/html": [
       "<div>\n",
       "<style scoped>\n",
       "    .dataframe tbody tr th:only-of-type {\n",
       "        vertical-align: middle;\n",
       "    }\n",
       "\n",
       "    .dataframe tbody tr th {\n",
       "        vertical-align: top;\n",
       "    }\n",
       "\n",
       "    .dataframe thead th {\n",
       "        text-align: right;\n",
       "    }\n",
       "</style>\n",
       "<table border=\"1\" class=\"dataframe\">\n",
       "  <thead>\n",
       "    <tr style=\"text-align: right;\">\n",
       "      <th></th>\n",
       "      <th>vocab1</th>\n",
       "      <th>vocab2</th>\n",
       "      <th>vocab3</th>\n",
       "      <th>phrase</th>\n",
       "      <th>03-22 counts</th>\n",
       "      <th>03-23 counts</th>\n",
       "      <th>03-24 counts</th>\n",
       "      <th>03-25 counts</th>\n",
       "      <th>03-26 counts</th>\n",
       "      <th>03-27 counts</th>\n",
       "      <th>03-28 counts</th>\n",
       "      <th>03-29 counts</th>\n",
       "      <th>03-30 counts</th>\n",
       "      <th>03-31 counts</th>\n",
       "      <th>04-01 counts</th>\n",
       "      <th>04-02 counts</th>\n",
       "      <th>04-03 counts</th>\n",
       "      <th>04-04 counts</th>\n",
       "      <th>04-05 counts</th>\n",
       "      <th>04-06 counts</th>\n",
       "      <th>04-07 counts</th>\n",
       "      <th>04-08 counts</th>\n",
       "      <th>04-09 counts</th>\n",
       "      <th>04-10 counts</th>\n",
       "      <th>04-11 counts</th>\n",
       "      <th>04-12 counts</th>\n",
       "      <th>04-13 counts</th>\n",
       "      <th>04-14 counts</th>\n",
       "      <th>04-15 counts</th>\n",
       "      <th>04-16 counts</th>\n",
       "      <th>04-17 counts</th>\n",
       "      <th>04-18 counts</th>\n",
       "      <th>04-19 counts</th>\n",
       "      <th>04-20 counts</th>\n",
       "      <th>04-21 counts</th>\n",
       "      <th>04-22 counts</th>\n",
       "      <th>04-23 counts</th>\n",
       "      <th>04-24 counts</th>\n",
       "      <th>04-25 counts</th>\n",
       "      <th>04-26 counts</th>\n",
       "      <th>04-27 counts</th>\n",
       "      <th>04-28 counts</th>\n",
       "      <th>countall</th>\n",
       "    </tr>\n",
       "  </thead>\n",
       "  <tbody>\n",
       "    <tr>\n",
       "      <td>0</td>\n",
       "      <td>trying</td>\n",
       "      <td>times</td>\n",
       "      <td>share</td>\n",
       "      <td>trying times share</td>\n",
       "      <td>4249.0</td>\n",
       "      <td>1826.0</td>\n",
       "      <td>481.0</td>\n",
       "      <td>146.0</td>\n",
       "      <td>195.0</td>\n",
       "      <td>163.0</td>\n",
       "      <td>0.0</td>\n",
       "      <td>0.0</td>\n",
       "      <td>0.0</td>\n",
       "      <td>212.0</td>\n",
       "      <td>0.0</td>\n",
       "      <td>0.0</td>\n",
       "      <td>0.0</td>\n",
       "      <td>0.0</td>\n",
       "      <td>0.0</td>\n",
       "      <td>0.0</td>\n",
       "      <td>0.0</td>\n",
       "      <td>0.0</td>\n",
       "      <td>0.0</td>\n",
       "      <td>0.0</td>\n",
       "      <td>0.0</td>\n",
       "      <td>0.0</td>\n",
       "      <td>0.0</td>\n",
       "      <td>0.0</td>\n",
       "      <td>0.0</td>\n",
       "      <td>0.0</td>\n",
       "      <td>0.0</td>\n",
       "      <td>0.0</td>\n",
       "      <td>0.0</td>\n",
       "      <td>0.0</td>\n",
       "      <td>0.0</td>\n",
       "      <td>0.0</td>\n",
       "      <td>0.0</td>\n",
       "      <td>0.0</td>\n",
       "      <td>0.0</td>\n",
       "      <td>0.0</td>\n",
       "      <td>0.0</td>\n",
       "      <td>0.0</td>\n",
       "      <td>7272.0</td>\n",
       "    </tr>\n",
       "    <tr>\n",
       "      <td>1</td>\n",
       "      <td>italy</td>\n",
       "      <td>trying</td>\n",
       "      <td>times</td>\n",
       "      <td>italy trying times</td>\n",
       "      <td>4229.0</td>\n",
       "      <td>1815.0</td>\n",
       "      <td>479.0</td>\n",
       "      <td>145.0</td>\n",
       "      <td>186.0</td>\n",
       "      <td>160.0</td>\n",
       "      <td>0.0</td>\n",
       "      <td>0.0</td>\n",
       "      <td>0.0</td>\n",
       "      <td>212.0</td>\n",
       "      <td>0.0</td>\n",
       "      <td>0.0</td>\n",
       "      <td>0.0</td>\n",
       "      <td>0.0</td>\n",
       "      <td>0.0</td>\n",
       "      <td>0.0</td>\n",
       "      <td>0.0</td>\n",
       "      <td>0.0</td>\n",
       "      <td>0.0</td>\n",
       "      <td>0.0</td>\n",
       "      <td>0.0</td>\n",
       "      <td>0.0</td>\n",
       "      <td>0.0</td>\n",
       "      <td>0.0</td>\n",
       "      <td>0.0</td>\n",
       "      <td>0.0</td>\n",
       "      <td>0.0</td>\n",
       "      <td>0.0</td>\n",
       "      <td>0.0</td>\n",
       "      <td>0.0</td>\n",
       "      <td>0.0</td>\n",
       "      <td>0.0</td>\n",
       "      <td>0.0</td>\n",
       "      <td>0.0</td>\n",
       "      <td>0.0</td>\n",
       "      <td>0.0</td>\n",
       "      <td>0.0</td>\n",
       "      <td>0.0</td>\n",
       "      <td>7226.0</td>\n",
       "    </tr>\n",
       "    <tr>\n",
       "      <td>2</td>\n",
       "      <td>stand</td>\n",
       "      <td>italy</td>\n",
       "      <td>trying</td>\n",
       "      <td>stand italy trying</td>\n",
       "      <td>4228.0</td>\n",
       "      <td>1814.0</td>\n",
       "      <td>479.0</td>\n",
       "      <td>145.0</td>\n",
       "      <td>186.0</td>\n",
       "      <td>159.0</td>\n",
       "      <td>0.0</td>\n",
       "      <td>0.0</td>\n",
       "      <td>0.0</td>\n",
       "      <td>212.0</td>\n",
       "      <td>0.0</td>\n",
       "      <td>0.0</td>\n",
       "      <td>0.0</td>\n",
       "      <td>0.0</td>\n",
       "      <td>0.0</td>\n",
       "      <td>0.0</td>\n",
       "      <td>0.0</td>\n",
       "      <td>0.0</td>\n",
       "      <td>0.0</td>\n",
       "      <td>0.0</td>\n",
       "      <td>0.0</td>\n",
       "      <td>0.0</td>\n",
       "      <td>0.0</td>\n",
       "      <td>0.0</td>\n",
       "      <td>0.0</td>\n",
       "      <td>0.0</td>\n",
       "      <td>0.0</td>\n",
       "      <td>0.0</td>\n",
       "      <td>0.0</td>\n",
       "      <td>0.0</td>\n",
       "      <td>0.0</td>\n",
       "      <td>0.0</td>\n",
       "      <td>0.0</td>\n",
       "      <td>0.0</td>\n",
       "      <td>0.0</td>\n",
       "      <td>0.0</td>\n",
       "      <td>0.0</td>\n",
       "      <td>0.0</td>\n",
       "      <td>7223.0</td>\n",
       "    </tr>\n",
       "    <tr>\n",
       "      <td>3</td>\n",
       "      <td>times</td>\n",
       "      <td>share</td>\n",
       "      <td>support</td>\n",
       "      <td>times share support</td>\n",
       "      <td>4223.0</td>\n",
       "      <td>1815.0</td>\n",
       "      <td>481.0</td>\n",
       "      <td>146.0</td>\n",
       "      <td>187.0</td>\n",
       "      <td>160.0</td>\n",
       "      <td>0.0</td>\n",
       "      <td>0.0</td>\n",
       "      <td>0.0</td>\n",
       "      <td>211.0</td>\n",
       "      <td>0.0</td>\n",
       "      <td>0.0</td>\n",
       "      <td>0.0</td>\n",
       "      <td>0.0</td>\n",
       "      <td>0.0</td>\n",
       "      <td>0.0</td>\n",
       "      <td>0.0</td>\n",
       "      <td>0.0</td>\n",
       "      <td>0.0</td>\n",
       "      <td>0.0</td>\n",
       "      <td>0.0</td>\n",
       "      <td>0.0</td>\n",
       "      <td>0.0</td>\n",
       "      <td>0.0</td>\n",
       "      <td>0.0</td>\n",
       "      <td>0.0</td>\n",
       "      <td>0.0</td>\n",
       "      <td>0.0</td>\n",
       "      <td>0.0</td>\n",
       "      <td>0.0</td>\n",
       "      <td>0.0</td>\n",
       "      <td>0.0</td>\n",
       "      <td>0.0</td>\n",
       "      <td>0.0</td>\n",
       "      <td>0.0</td>\n",
       "      <td>0.0</td>\n",
       "      <td>0.0</td>\n",
       "      <td>0.0</td>\n",
       "      <td>7223.0</td>\n",
       "    </tr>\n",
       "    <tr>\n",
       "      <td>4</td>\n",
       "      <td>share</td>\n",
       "      <td>support</td>\n",
       "      <td>italian</td>\n",
       "      <td>share support italian</td>\n",
       "      <td>4217.0</td>\n",
       "      <td>1815.0</td>\n",
       "      <td>480.0</td>\n",
       "      <td>146.0</td>\n",
       "      <td>186.0</td>\n",
       "      <td>160.0</td>\n",
       "      <td>0.0</td>\n",
       "      <td>0.0</td>\n",
       "      <td>0.0</td>\n",
       "      <td>211.0</td>\n",
       "      <td>0.0</td>\n",
       "      <td>0.0</td>\n",
       "      <td>0.0</td>\n",
       "      <td>0.0</td>\n",
       "      <td>0.0</td>\n",
       "      <td>0.0</td>\n",
       "      <td>0.0</td>\n",
       "      <td>0.0</td>\n",
       "      <td>0.0</td>\n",
       "      <td>0.0</td>\n",
       "      <td>0.0</td>\n",
       "      <td>0.0</td>\n",
       "      <td>0.0</td>\n",
       "      <td>0.0</td>\n",
       "      <td>0.0</td>\n",
       "      <td>0.0</td>\n",
       "      <td>0.0</td>\n",
       "      <td>0.0</td>\n",
       "      <td>0.0</td>\n",
       "      <td>0.0</td>\n",
       "      <td>0.0</td>\n",
       "      <td>0.0</td>\n",
       "      <td>0.0</td>\n",
       "      <td>0.0</td>\n",
       "      <td>0.0</td>\n",
       "      <td>0.0</td>\n",
       "      <td>0.0</td>\n",
       "      <td>0.0</td>\n",
       "      <td>7215.0</td>\n",
       "    </tr>\n",
       "  </tbody>\n",
       "</table>\n",
       "</div>"
      ],
      "text/plain": [
       "   vocab1   vocab2   vocab3                 phrase  03-22 counts  \\\n",
       "0  trying    times    share     trying times share        4249.0   \n",
       "1   italy   trying    times     italy trying times        4229.0   \n",
       "2   stand    italy   trying     stand italy trying        4228.0   \n",
       "3   times    share  support    times share support        4223.0   \n",
       "4   share  support  italian  share support italian        4217.0   \n",
       "\n",
       "   03-23 counts  03-24 counts  03-25 counts  03-26 counts  03-27 counts  \\\n",
       "0        1826.0         481.0         146.0         195.0         163.0   \n",
       "1        1815.0         479.0         145.0         186.0         160.0   \n",
       "2        1814.0         479.0         145.0         186.0         159.0   \n",
       "3        1815.0         481.0         146.0         187.0         160.0   \n",
       "4        1815.0         480.0         146.0         186.0         160.0   \n",
       "\n",
       "   03-28 counts  03-29 counts  03-30 counts  03-31 counts  04-01 counts  \\\n",
       "0           0.0           0.0           0.0         212.0           0.0   \n",
       "1           0.0           0.0           0.0         212.0           0.0   \n",
       "2           0.0           0.0           0.0         212.0           0.0   \n",
       "3           0.0           0.0           0.0         211.0           0.0   \n",
       "4           0.0           0.0           0.0         211.0           0.0   \n",
       "\n",
       "   04-02 counts  04-03 counts  04-04 counts  04-05 counts  04-06 counts  \\\n",
       "0           0.0           0.0           0.0           0.0           0.0   \n",
       "1           0.0           0.0           0.0           0.0           0.0   \n",
       "2           0.0           0.0           0.0           0.0           0.0   \n",
       "3           0.0           0.0           0.0           0.0           0.0   \n",
       "4           0.0           0.0           0.0           0.0           0.0   \n",
       "\n",
       "   04-07 counts  04-08 counts  04-09 counts  04-10 counts  04-11 counts  \\\n",
       "0           0.0           0.0           0.0           0.0           0.0   \n",
       "1           0.0           0.0           0.0           0.0           0.0   \n",
       "2           0.0           0.0           0.0           0.0           0.0   \n",
       "3           0.0           0.0           0.0           0.0           0.0   \n",
       "4           0.0           0.0           0.0           0.0           0.0   \n",
       "\n",
       "   04-12 counts  04-13 counts  04-14 counts  04-15 counts  04-16 counts  \\\n",
       "0           0.0           0.0           0.0           0.0           0.0   \n",
       "1           0.0           0.0           0.0           0.0           0.0   \n",
       "2           0.0           0.0           0.0           0.0           0.0   \n",
       "3           0.0           0.0           0.0           0.0           0.0   \n",
       "4           0.0           0.0           0.0           0.0           0.0   \n",
       "\n",
       "   04-17 counts  04-18 counts  04-19 counts  04-20 counts  04-21 counts  \\\n",
       "0           0.0           0.0           0.0           0.0           0.0   \n",
       "1           0.0           0.0           0.0           0.0           0.0   \n",
       "2           0.0           0.0           0.0           0.0           0.0   \n",
       "3           0.0           0.0           0.0           0.0           0.0   \n",
       "4           0.0           0.0           0.0           0.0           0.0   \n",
       "\n",
       "   04-22 counts  04-23 counts  04-24 counts  04-25 counts  04-26 counts  \\\n",
       "0           0.0           0.0           0.0           0.0           0.0   \n",
       "1           0.0           0.0           0.0           0.0           0.0   \n",
       "2           0.0           0.0           0.0           0.0           0.0   \n",
       "3           0.0           0.0           0.0           0.0           0.0   \n",
       "4           0.0           0.0           0.0           0.0           0.0   \n",
       "\n",
       "   04-27 counts  04-28 counts  countall  \n",
       "0           0.0           0.0    7272.0  \n",
       "1           0.0           0.0    7226.0  \n",
       "2           0.0           0.0    7223.0  \n",
       "3           0.0           0.0    7223.0  \n",
       "4           0.0           0.0    7215.0  "
      ]
     },
     "execution_count": 5,
     "metadata": {},
     "output_type": "execute_result"
    }
   ],
   "source": [
    "# Now let's inspect the df more closely\n",
    "# check each phrases total appearances\n",
    "\n",
    "df['countall'] = df.sum(axis = 1) \n",
    "df.head()"
   ]
  },
  {
   "cell_type": "markdown",
   "metadata": {},
   "source": [
    "Now that we have a well-generated dataframe with counts of each phrase in each day. As future data scientists, we ought to be asking ourselves questions most of the time. We observe here that the counts are pretty close to each other, which is not that likely. However, I have no way to inspect that, so I continue, assuming these numbers are accurate. Next step is to convert the numbers into sentiment day by day. I use the VADER sentiment from github, more detailed info is in the comment:"
   ]
  },
  {
   "cell_type": "code",
   "execution_count": 6,
   "metadata": {},
   "outputs": [
    {
     "data": {
      "text/html": [
       "<div>\n",
       "<style scoped>\n",
       "    .dataframe tbody tr th:only-of-type {\n",
       "        vertical-align: middle;\n",
       "    }\n",
       "\n",
       "    .dataframe tbody tr th {\n",
       "        vertical-align: top;\n",
       "    }\n",
       "\n",
       "    .dataframe thead th {\n",
       "        text-align: right;\n",
       "    }\n",
       "</style>\n",
       "<table border=\"1\" class=\"dataframe\">\n",
       "  <thead>\n",
       "    <tr style=\"text-align: right;\">\n",
       "      <th></th>\n",
       "      <th>polarity</th>\n",
       "    </tr>\n",
       "    <tr>\n",
       "      <th>tokens</th>\n",
       "      <th></th>\n",
       "    </tr>\n",
       "  </thead>\n",
       "  <tbody>\n",
       "    <tr>\n",
       "      <td>$:</td>\n",
       "      <td>-1.5</td>\n",
       "    </tr>\n",
       "    <tr>\n",
       "      <td>%)</td>\n",
       "      <td>-0.4</td>\n",
       "    </tr>\n",
       "    <tr>\n",
       "      <td>%-)</td>\n",
       "      <td>-1.5</td>\n",
       "    </tr>\n",
       "    <tr>\n",
       "      <td>&amp;-:</td>\n",
       "      <td>-0.4</td>\n",
       "    </tr>\n",
       "    <tr>\n",
       "      <td>&amp;:</td>\n",
       "      <td>-0.7</td>\n",
       "    </tr>\n",
       "  </tbody>\n",
       "</table>\n",
       "</div>"
      ],
      "text/plain": [
       "        polarity\n",
       "tokens          \n",
       "$:          -1.5\n",
       "%)          -0.4\n",
       "%-)         -1.5\n",
       "&-:         -0.4\n",
       "&:          -0.7"
      ]
     },
     "execution_count": 6,
     "metadata": {},
     "output_type": "execute_result"
    }
   ],
   "source": [
    "# get the sentiment sheet\n",
    "# Note that this is obtained from 'https://github.com/cjhutto/vaderSentiment', it is called VADER sentiment\n",
    "# It is mainly used to analyze the sentiment in social platforms, such as tweets\n",
    "\n",
    "urllib.request.urlretrieve('https://raw.githubusercontent.com/cjhutto/vaderSentiment'\\\n",
    "                       '/master/vaderSentiment/vader_lexicon.txt', 'sentiment.txt')\n",
    "with open('sentiment.txt') as f:\n",
    "    a = f.readlines()\n",
    "x = [line.split('\\t') for line in a]\n",
    "sent = pd.DataFrame(x).rename(columns = {0: 'tokens', 1: 'polarity'}).set_index('tokens')[['polarity']]\n",
    "sent.polarity = pd.to_numeric(sent.polarity)\n",
    "sent.head()"
   ]
  },
  {
   "cell_type": "code",
   "execution_count": 7,
   "metadata": {},
   "outputs": [
    {
     "name": "stderr",
     "output_type": "stream",
     "text": [
      "100%|██████████████████████████████████████████████████████████████████████████████████| 38/38 [06:58<00:00, 11.02s/it]\n"
     ]
    }
   ],
   "source": [
    "# now I will calculate the in all sentiment value for each day\n",
    "# note that it's very likely that the sentiment table doesn't contain some vocab\n",
    "# I will set those to simply zero, assuming that the probability of the word being positive or negative is 0.5 (randomness)\n",
    "\n",
    "sentiment_day = [0, 0, 0, 0]      # the first four columns excluded\n",
    "for i in tqdm(range(4,len(df.columns)-1)):\n",
    "    temp = 0\n",
    "    for ii in range(len(df)):\n",
    "        try:\n",
    "            vocab_sent1 = float(sent.loc[df.iloc[ii,0]])\n",
    "        except:\n",
    "            vocab_sent1 = 0\n",
    "        try:\n",
    "            vocab_sent2 = float(sent.loc[df.iloc[ii,1]])\n",
    "        except:\n",
    "            vocab_sent2 = 0\n",
    "        try:\n",
    "            vocab_sent3 = float(sent.loc[df.iloc[ii,2]])\n",
    "        except:\n",
    "            vocab_sent3 = 0\n",
    "        temp = temp + ((vocab_sent1 + vocab_sent2 + vocab_sent3) * df.iloc[ii,i])\n",
    "    sentiment_day.append(temp)"
   ]
  },
  {
   "cell_type": "code",
   "execution_count": 8,
   "metadata": {},
   "outputs": [
    {
     "data": {
      "text/plain": [
       "[0,\n",
       " 0,\n",
       " 0,\n",
       " 0,\n",
       " 70754.50000000001,\n",
       " 34562.40000000002,\n",
       " 22050.30000000001,\n",
       " 16914.500000000022]"
      ]
     },
     "execution_count": 8,
     "metadata": {},
     "output_type": "execute_result"
    }
   ],
   "source": [
    "sentiment_day[:8]"
   ]
  },
  {
   "cell_type": "code",
   "execution_count": 9,
   "metadata": {},
   "outputs": [
    {
     "name": "stderr",
     "output_type": "stream",
     "text": [
      "100%|██████████████████████████████████████████████████████████████████████████| 17509/17509 [00:10<00:00, 1595.95it/s]\n",
      "100%|█████████████████████████████████████████████████████████████████████████████████| 38/38 [00:00<00:00, 614.54it/s]\n"
     ]
    }
   ],
   "source": [
    "# I notice that the above algorithm takes like 6 minutes which is not desireable,\n",
    "# so instead of using multiprocessing, I decide to use the similar algorithm but coded in a more explicit way\n",
    "# it is faster, the output senti_day is basically the same as sentiment_day from above,\n",
    "# despite minor differences caused by different ways of calculation\n",
    "# I will also leave the previous method, just to double check the results calculated are accurate\n",
    "\n",
    "senti = []\n",
    "senti_day = []\n",
    "for i in tqdm(range(len(df))):\n",
    "    try:\n",
    "        s1 = float(sent.loc[df.iloc[i,0]])\n",
    "    except:\n",
    "        s1 = 0\n",
    "    try:\n",
    "        s2 = float(sent.loc[df.iloc[i,1]])\n",
    "    except:\n",
    "        s2 = 0\n",
    "    try:\n",
    "        s3 = float(sent.loc[df.iloc[i,2]])\n",
    "    except:\n",
    "        s3 = 0\n",
    "    senti.append(s1+s2+s3)\n",
    "for i in tqdm(range(4,len(df.columns)-1)):\n",
    "    senti_day.append(np.sum(senti * df.iloc[:,i]))\n",
    "senti_day = [0, 0, 0, 0] + senti_day"
   ]
  },
  {
   "cell_type": "code",
   "execution_count": 10,
   "metadata": {},
   "outputs": [
    {
     "data": {
      "text/plain": [
       "[0,\n",
       " 0,\n",
       " 0,\n",
       " 0,\n",
       " 70754.49999999999,\n",
       " 34562.399999999994,\n",
       " 22050.3,\n",
       " 16914.499999999996]"
      ]
     },
     "execution_count": 10,
     "metadata": {},
     "output_type": "execute_result"
    }
   ],
   "source": [
    "senti_day[:8]"
   ]
  },
  {
   "cell_type": "code",
   "execution_count": 11,
   "metadata": {},
   "outputs": [
    {
     "data": {
      "text/html": [
       "<div>\n",
       "<style scoped>\n",
       "    .dataframe tbody tr th:only-of-type {\n",
       "        vertical-align: middle;\n",
       "    }\n",
       "\n",
       "    .dataframe tbody tr th {\n",
       "        vertical-align: top;\n",
       "    }\n",
       "\n",
       "    .dataframe thead th {\n",
       "        text-align: right;\n",
       "    }\n",
       "</style>\n",
       "<table border=\"1\" class=\"dataframe\">\n",
       "  <thead>\n",
       "    <tr style=\"text-align: right;\">\n",
       "      <th></th>\n",
       "      <th>vocab1</th>\n",
       "      <th>vocab2</th>\n",
       "      <th>vocab3</th>\n",
       "      <th>phrase</th>\n",
       "      <th>03-22 counts</th>\n",
       "      <th>03-23 counts</th>\n",
       "      <th>03-24 counts</th>\n",
       "      <th>03-25 counts</th>\n",
       "      <th>03-26 counts</th>\n",
       "      <th>03-27 counts</th>\n",
       "      <th>03-28 counts</th>\n",
       "      <th>03-29 counts</th>\n",
       "      <th>03-30 counts</th>\n",
       "      <th>03-31 counts</th>\n",
       "      <th>04-01 counts</th>\n",
       "      <th>04-02 counts</th>\n",
       "      <th>04-03 counts</th>\n",
       "      <th>04-04 counts</th>\n",
       "      <th>04-05 counts</th>\n",
       "      <th>04-06 counts</th>\n",
       "      <th>04-07 counts</th>\n",
       "      <th>04-08 counts</th>\n",
       "      <th>04-09 counts</th>\n",
       "      <th>04-10 counts</th>\n",
       "      <th>04-11 counts</th>\n",
       "      <th>04-12 counts</th>\n",
       "      <th>04-13 counts</th>\n",
       "      <th>04-14 counts</th>\n",
       "      <th>04-15 counts</th>\n",
       "      <th>04-16 counts</th>\n",
       "      <th>04-17 counts</th>\n",
       "      <th>04-18 counts</th>\n",
       "      <th>04-19 counts</th>\n",
       "      <th>04-20 counts</th>\n",
       "      <th>04-21 counts</th>\n",
       "      <th>04-22 counts</th>\n",
       "      <th>04-23 counts</th>\n",
       "      <th>04-24 counts</th>\n",
       "      <th>04-25 counts</th>\n",
       "      <th>04-26 counts</th>\n",
       "      <th>04-27 counts</th>\n",
       "      <th>04-28 counts</th>\n",
       "      <th>countall</th>\n",
       "    </tr>\n",
       "  </thead>\n",
       "  <tbody>\n",
       "    <tr>\n",
       "      <td>daily</td>\n",
       "      <td>0</td>\n",
       "      <td>0</td>\n",
       "      <td>0</td>\n",
       "      <td>0</td>\n",
       "      <td>70754.5</td>\n",
       "      <td>34562.4</td>\n",
       "      <td>22050.3</td>\n",
       "      <td>16914.5</td>\n",
       "      <td>-1885.5</td>\n",
       "      <td>38527.1</td>\n",
       "      <td>11684.1</td>\n",
       "      <td>2420</td>\n",
       "      <td>6985.8</td>\n",
       "      <td>6209.1</td>\n",
       "      <td>-14991.7</td>\n",
       "      <td>-4487</td>\n",
       "      <td>30995</td>\n",
       "      <td>-7351</td>\n",
       "      <td>14924.5</td>\n",
       "      <td>22043.5</td>\n",
       "      <td>2720.4</td>\n",
       "      <td>-13131.7</td>\n",
       "      <td>-4581.5</td>\n",
       "      <td>-19086.8</td>\n",
       "      <td>-24201.4</td>\n",
       "      <td>-8132.3</td>\n",
       "      <td>38882.6</td>\n",
       "      <td>8332.9</td>\n",
       "      <td>-2160</td>\n",
       "      <td>6750.9</td>\n",
       "      <td>-7906.5</td>\n",
       "      <td>6303.7</td>\n",
       "      <td>-5085.4</td>\n",
       "      <td>-31926.7</td>\n",
       "      <td>-18094.8</td>\n",
       "      <td>23486</td>\n",
       "      <td>1354.2</td>\n",
       "      <td>-35440.4</td>\n",
       "      <td>-35422.8</td>\n",
       "      <td>-19367.2</td>\n",
       "      <td>-23874</td>\n",
       "      <td>-30505</td>\n",
       "      <td>0</td>\n",
       "    </tr>\n",
       "    <tr>\n",
       "      <td>0</td>\n",
       "      <td>trying</td>\n",
       "      <td>times</td>\n",
       "      <td>share</td>\n",
       "      <td>trying times share</td>\n",
       "      <td>4249</td>\n",
       "      <td>1826</td>\n",
       "      <td>481</td>\n",
       "      <td>146</td>\n",
       "      <td>195</td>\n",
       "      <td>163</td>\n",
       "      <td>0</td>\n",
       "      <td>0</td>\n",
       "      <td>0</td>\n",
       "      <td>212</td>\n",
       "      <td>0</td>\n",
       "      <td>0</td>\n",
       "      <td>0</td>\n",
       "      <td>0</td>\n",
       "      <td>0</td>\n",
       "      <td>0</td>\n",
       "      <td>0</td>\n",
       "      <td>0</td>\n",
       "      <td>0</td>\n",
       "      <td>0</td>\n",
       "      <td>0</td>\n",
       "      <td>0</td>\n",
       "      <td>0</td>\n",
       "      <td>0</td>\n",
       "      <td>0</td>\n",
       "      <td>0</td>\n",
       "      <td>0</td>\n",
       "      <td>0</td>\n",
       "      <td>0</td>\n",
       "      <td>0</td>\n",
       "      <td>0</td>\n",
       "      <td>0</td>\n",
       "      <td>0</td>\n",
       "      <td>0</td>\n",
       "      <td>0</td>\n",
       "      <td>0</td>\n",
       "      <td>0</td>\n",
       "      <td>0</td>\n",
       "      <td>7272</td>\n",
       "    </tr>\n",
       "    <tr>\n",
       "      <td>1</td>\n",
       "      <td>italy</td>\n",
       "      <td>trying</td>\n",
       "      <td>times</td>\n",
       "      <td>italy trying times</td>\n",
       "      <td>4229</td>\n",
       "      <td>1815</td>\n",
       "      <td>479</td>\n",
       "      <td>145</td>\n",
       "      <td>186</td>\n",
       "      <td>160</td>\n",
       "      <td>0</td>\n",
       "      <td>0</td>\n",
       "      <td>0</td>\n",
       "      <td>212</td>\n",
       "      <td>0</td>\n",
       "      <td>0</td>\n",
       "      <td>0</td>\n",
       "      <td>0</td>\n",
       "      <td>0</td>\n",
       "      <td>0</td>\n",
       "      <td>0</td>\n",
       "      <td>0</td>\n",
       "      <td>0</td>\n",
       "      <td>0</td>\n",
       "      <td>0</td>\n",
       "      <td>0</td>\n",
       "      <td>0</td>\n",
       "      <td>0</td>\n",
       "      <td>0</td>\n",
       "      <td>0</td>\n",
       "      <td>0</td>\n",
       "      <td>0</td>\n",
       "      <td>0</td>\n",
       "      <td>0</td>\n",
       "      <td>0</td>\n",
       "      <td>0</td>\n",
       "      <td>0</td>\n",
       "      <td>0</td>\n",
       "      <td>0</td>\n",
       "      <td>0</td>\n",
       "      <td>0</td>\n",
       "      <td>0</td>\n",
       "      <td>7226</td>\n",
       "    </tr>\n",
       "    <tr>\n",
       "      <td>2</td>\n",
       "      <td>stand</td>\n",
       "      <td>italy</td>\n",
       "      <td>trying</td>\n",
       "      <td>stand italy trying</td>\n",
       "      <td>4228</td>\n",
       "      <td>1814</td>\n",
       "      <td>479</td>\n",
       "      <td>145</td>\n",
       "      <td>186</td>\n",
       "      <td>159</td>\n",
       "      <td>0</td>\n",
       "      <td>0</td>\n",
       "      <td>0</td>\n",
       "      <td>212</td>\n",
       "      <td>0</td>\n",
       "      <td>0</td>\n",
       "      <td>0</td>\n",
       "      <td>0</td>\n",
       "      <td>0</td>\n",
       "      <td>0</td>\n",
       "      <td>0</td>\n",
       "      <td>0</td>\n",
       "      <td>0</td>\n",
       "      <td>0</td>\n",
       "      <td>0</td>\n",
       "      <td>0</td>\n",
       "      <td>0</td>\n",
       "      <td>0</td>\n",
       "      <td>0</td>\n",
       "      <td>0</td>\n",
       "      <td>0</td>\n",
       "      <td>0</td>\n",
       "      <td>0</td>\n",
       "      <td>0</td>\n",
       "      <td>0</td>\n",
       "      <td>0</td>\n",
       "      <td>0</td>\n",
       "      <td>0</td>\n",
       "      <td>0</td>\n",
       "      <td>0</td>\n",
       "      <td>0</td>\n",
       "      <td>0</td>\n",
       "      <td>7223</td>\n",
       "    </tr>\n",
       "    <tr>\n",
       "      <td>3</td>\n",
       "      <td>times</td>\n",
       "      <td>share</td>\n",
       "      <td>support</td>\n",
       "      <td>times share support</td>\n",
       "      <td>4223</td>\n",
       "      <td>1815</td>\n",
       "      <td>481</td>\n",
       "      <td>146</td>\n",
       "      <td>187</td>\n",
       "      <td>160</td>\n",
       "      <td>0</td>\n",
       "      <td>0</td>\n",
       "      <td>0</td>\n",
       "      <td>211</td>\n",
       "      <td>0</td>\n",
       "      <td>0</td>\n",
       "      <td>0</td>\n",
       "      <td>0</td>\n",
       "      <td>0</td>\n",
       "      <td>0</td>\n",
       "      <td>0</td>\n",
       "      <td>0</td>\n",
       "      <td>0</td>\n",
       "      <td>0</td>\n",
       "      <td>0</td>\n",
       "      <td>0</td>\n",
       "      <td>0</td>\n",
       "      <td>0</td>\n",
       "      <td>0</td>\n",
       "      <td>0</td>\n",
       "      <td>0</td>\n",
       "      <td>0</td>\n",
       "      <td>0</td>\n",
       "      <td>0</td>\n",
       "      <td>0</td>\n",
       "      <td>0</td>\n",
       "      <td>0</td>\n",
       "      <td>0</td>\n",
       "      <td>0</td>\n",
       "      <td>0</td>\n",
       "      <td>0</td>\n",
       "      <td>0</td>\n",
       "      <td>7223</td>\n",
       "    </tr>\n",
       "  </tbody>\n",
       "</table>\n",
       "</div>"
      ],
      "text/plain": [
       "       vocab1  vocab2   vocab3               phrase 03-22 counts 03-23 counts  \\\n",
       "daily       0       0        0                    0      70754.5      34562.4   \n",
       "0      trying   times    share   trying times share         4249         1826   \n",
       "1       italy  trying    times   italy trying times         4229         1815   \n",
       "2       stand   italy   trying   stand italy trying         4228         1814   \n",
       "3       times   share  support  times share support         4223         1815   \n",
       "\n",
       "      03-24 counts 03-25 counts 03-26 counts 03-27 counts 03-28 counts  \\\n",
       "daily      22050.3      16914.5      -1885.5      38527.1      11684.1   \n",
       "0              481          146          195          163            0   \n",
       "1              479          145          186          160            0   \n",
       "2              479          145          186          159            0   \n",
       "3              481          146          187          160            0   \n",
       "\n",
       "      03-29 counts 03-30 counts 03-31 counts 04-01 counts 04-02 counts  \\\n",
       "daily         2420       6985.8       6209.1     -14991.7        -4487   \n",
       "0                0            0          212            0            0   \n",
       "1                0            0          212            0            0   \n",
       "2                0            0          212            0            0   \n",
       "3                0            0          211            0            0   \n",
       "\n",
       "      04-03 counts 04-04 counts 04-05 counts 04-06 counts 04-07 counts  \\\n",
       "daily        30995        -7351      14924.5      22043.5       2720.4   \n",
       "0                0            0            0            0            0   \n",
       "1                0            0            0            0            0   \n",
       "2                0            0            0            0            0   \n",
       "3                0            0            0            0            0   \n",
       "\n",
       "      04-08 counts 04-09 counts 04-10 counts 04-11 counts 04-12 counts  \\\n",
       "daily     -13131.7      -4581.5     -19086.8     -24201.4      -8132.3   \n",
       "0                0            0            0            0            0   \n",
       "1                0            0            0            0            0   \n",
       "2                0            0            0            0            0   \n",
       "3                0            0            0            0            0   \n",
       "\n",
       "      04-13 counts 04-14 counts 04-15 counts 04-16 counts 04-17 counts  \\\n",
       "daily      38882.6       8332.9        -2160       6750.9      -7906.5   \n",
       "0                0            0            0            0            0   \n",
       "1                0            0            0            0            0   \n",
       "2                0            0            0            0            0   \n",
       "3                0            0            0            0            0   \n",
       "\n",
       "      04-18 counts 04-19 counts 04-20 counts 04-21 counts 04-22 counts  \\\n",
       "daily       6303.7      -5085.4     -31926.7     -18094.8        23486   \n",
       "0                0            0            0            0            0   \n",
       "1                0            0            0            0            0   \n",
       "2                0            0            0            0            0   \n",
       "3                0            0            0            0            0   \n",
       "\n",
       "      04-23 counts 04-24 counts 04-25 counts 04-26 counts 04-27 counts  \\\n",
       "daily       1354.2     -35440.4     -35422.8     -19367.2       -23874   \n",
       "0                0            0            0            0            0   \n",
       "1                0            0            0            0            0   \n",
       "2                0            0            0            0            0   \n",
       "3                0            0            0            0            0   \n",
       "\n",
       "      04-28 counts countall  \n",
       "daily       -30505        0  \n",
       "0                0     7272  \n",
       "1                0     7226  \n",
       "2                0     7223  \n",
       "3                0     7223  "
      ]
     },
     "execution_count": 11,
     "metadata": {},
     "output_type": "execute_result"
    }
   ],
   "source": [
    "# insert the result into the dataframe\n",
    "# make the sum row at the top\n",
    "\n",
    "temp = df.T\n",
    "insert = senti_day + [0]     # the last column is excluded\n",
    "temp['daily'] = insert\n",
    "df = temp.T\n",
    "df = df.iloc[np.arange(-1, len(df)-1)]\n",
    "df.head()"
   ]
  },
  {
   "cell_type": "markdown",
   "metadata": {},
   "source": [
    "Now that I finally have the aggregated values of sentiment for each day, let's get Trump's data. I use a module called twitter_scraper which I found through searching Pypi. However, it seems to be unstable sometimes. I'm guessing that twitter have some sort of self-protective method to make these scrapers not functioning if they trigger some condition. So here I don't run the following cell everytime, I just use the csv file I downloaded for the first time:"
   ]
  },
  {
   "cell_type": "code",
   "execution_count": null,
   "metadata": {},
   "outputs": [],
   "source": [
    "# now it's time to get Trump's tweets\n",
    "# I'm using a method from github, it is a module called twitter_scraper\n",
    "# Eventually I will save the tweets in a csv for further reading\n",
    "\n",
    "tweets = [[]]\n",
    "for tweet in get_tweets('realDonaldTrump', pages = 600):\n",
    "    row = [tweet['text'], tweet['time'], tweet['likes']]\n",
    "    tweets.append(row)\n",
    "\n",
    "with open('tweet.csv', 'w') as csvFile:\n",
    "    writer = csv.writer(csvFile)\n",
    "    writer.writerows(tweets)\n",
    "csvFile.close()"
   ]
  },
  {
   "cell_type": "code",
   "execution_count": 12,
   "metadata": {},
   "outputs": [
    {
     "data": {
      "text/html": [
       "<div>\n",
       "<style scoped>\n",
       "    .dataframe tbody tr th:only-of-type {\n",
       "        vertical-align: middle;\n",
       "    }\n",
       "\n",
       "    .dataframe tbody tr th {\n",
       "        vertical-align: top;\n",
       "    }\n",
       "\n",
       "    .dataframe thead th {\n",
       "        text-align: right;\n",
       "    }\n",
       "</style>\n",
       "<table border=\"1\" class=\"dataframe\">\n",
       "  <thead>\n",
       "    <tr style=\"text-align: right;\">\n",
       "      <th></th>\n",
       "      <th>0</th>\n",
       "      <th>1</th>\n",
       "      <th>2</th>\n",
       "    </tr>\n",
       "  </thead>\n",
       "  <tbody>\n",
       "    <tr>\n",
       "      <td>0</td>\n",
       "      <td>Thank you Michael. You also! https://twitter.c...</td>\n",
       "      <td>2020-05-02 13:02:15</td>\n",
       "      <td>17608</td>\n",
       "    </tr>\n",
       "    <tr>\n",
       "      <td>1</td>\n",
       "      <td>The FBI found \"no derogatory information\" abou...</td>\n",
       "      <td>2020-04-30 23:29:41</td>\n",
       "      <td>12313</td>\n",
       "    </tr>\n",
       "    <tr>\n",
       "      <td>2</td>\n",
       "      <td>The Russia Hoax is the biggest political scand...</td>\n",
       "      <td>2020-05-02 12:56:46</td>\n",
       "      <td>37419</td>\n",
       "    </tr>\n",
       "    <tr>\n",
       "      <td>3</td>\n",
       "      <td>Join me for a quick laugh about the funniest T...</td>\n",
       "      <td>2020-05-01 14:04:32</td>\n",
       "      <td>4992</td>\n",
       "    </tr>\n",
       "    <tr>\n",
       "      <td>4</td>\n",
       "      <td>This kill shot is so perfectly executed it is ...</td>\n",
       "      <td>2020-05-01 13:58:36</td>\n",
       "      <td>4917</td>\n",
       "    </tr>\n",
       "  </tbody>\n",
       "</table>\n",
       "</div>"
      ],
      "text/plain": [
       "                                                   0                    1  \\\n",
       "0  Thank you Michael. You also! https://twitter.c...  2020-05-02 13:02:15   \n",
       "1  The FBI found \"no derogatory information\" abou...  2020-04-30 23:29:41   \n",
       "2  The Russia Hoax is the biggest political scand...  2020-05-02 12:56:46   \n",
       "3  Join me for a quick laugh about the funniest T...  2020-05-01 14:04:32   \n",
       "4  This kill shot is so perfectly executed it is ...  2020-05-01 13:58:36   \n",
       "\n",
       "       2  \n",
       "0  17608  \n",
       "1  12313  \n",
       "2  37419  \n",
       "3   4992  \n",
       "4   4917  "
      ]
     },
     "execution_count": 12,
     "metadata": {},
     "output_type": "execute_result"
    }
   ],
   "source": [
    "# read the csv file into a dataframe\n",
    "# Noticed that somehow there's some werid entries at the end,\n",
    "# the functions didn't seem to return the tweets in March\n",
    "# So I will use only April tweets to do further analysis\n",
    "\n",
    "trump = pd.read_csv('tweet.csv', header = None)\n",
    "trump.head()"
   ]
  },
  {
   "cell_type": "code",
   "execution_count": 13,
   "metadata": {},
   "outputs": [],
   "source": [
    "# Clean the dataframe trump\n",
    "\n",
    "trump.sort_values(1, inplace = True, ascending = False)\n",
    "trump = trump[81:501]\n",
    "trump.sort_values(1, inplace = True, ascending = True)\n",
    "trump.reset_index(inplace = True)\n",
    "trump.drop(['index', 2], axis = 1, inplace = True)\n",
    "trump.rename(columns = {0 : 'tweet', 1 : 'date'}, inplace = True)\n",
    "trump.date = trump.date.str[8:10]\n",
    "trump.tweet = trump.tweet.str.lower()"
   ]
  },
  {
   "cell_type": "code",
   "execution_count": 14,
   "metadata": {},
   "outputs": [],
   "source": [
    "# further manipulate the df so that I can apply sentiment df on each tweet\n",
    "\n",
    "# convert the trump_sent df into tweet by date, and the tweets are in list-of-vocab form\n",
    "\n",
    "trump_sent = trump.groupby('date')['tweet'].unique().str.join(' ').reset_index()\n",
    "for i in range(len(trump_sent.tweet)):\n",
    "    temp = re.sub('[^a-z0-9]+', ' ', trump_sent.iloc[i,1])\n",
    "    temp = temp.split(' ')\n",
    "    trump_sent.iloc[i,1] = temp"
   ]
  },
  {
   "cell_type": "code",
   "execution_count": 15,
   "metadata": {},
   "outputs": [
    {
     "name": "stderr",
     "output_type": "stream",
     "text": [
      "100%|██████████████████████████████████████████████████████████████████████████████████| 28/28 [00:02<00:00, 11.93it/s]\n"
     ]
    },
    {
     "data": {
      "text/html": [
       "<div>\n",
       "<style scoped>\n",
       "    .dataframe tbody tr th:only-of-type {\n",
       "        vertical-align: middle;\n",
       "    }\n",
       "\n",
       "    .dataframe tbody tr th {\n",
       "        vertical-align: top;\n",
       "    }\n",
       "\n",
       "    .dataframe thead th {\n",
       "        text-align: right;\n",
       "    }\n",
       "</style>\n",
       "<table border=\"1\" class=\"dataframe\">\n",
       "  <thead>\n",
       "    <tr style=\"text-align: right;\">\n",
       "      <th></th>\n",
       "      <th>date</th>\n",
       "      <th>tweet</th>\n",
       "      <th>sent</th>\n",
       "    </tr>\n",
       "  </thead>\n",
       "  <tbody>\n",
       "    <tr>\n",
       "      <td>0</td>\n",
       "      <td>01</td>\n",
       "      <td>[hydroxychloroquine, proving, an, effective, t...</td>\n",
       "      <td>2.1</td>\n",
       "    </tr>\n",
       "    <tr>\n",
       "      <td>1</td>\n",
       "      <td>02</td>\n",
       "      <td>[exclusive, realdonaldtrump, s, campaign, has,...</td>\n",
       "      <td>-1.3</td>\n",
       "    </tr>\n",
       "    <tr>\n",
       "      <td>2</td>\n",
       "      <td>03</td>\n",
       "      <td>[psalm, 33, 18, 20, but, the, lord, watches, o...</td>\n",
       "      <td>11.5</td>\n",
       "    </tr>\n",
       "    <tr>\n",
       "      <td>3</td>\n",
       "      <td>04</td>\n",
       "      <td>[my, latest, colum, for, thehill, how, deadly,...</td>\n",
       "      <td>17.9</td>\n",
       "    </tr>\n",
       "    <tr>\n",
       "      <td>4</td>\n",
       "      <td>05</td>\n",
       "      <td>[pic, twitter, com, wxqib5br4z, thank, you, to...</td>\n",
       "      <td>20.6</td>\n",
       "    </tr>\n",
       "  </tbody>\n",
       "</table>\n",
       "</div>"
      ],
      "text/plain": [
       "  date                                              tweet  sent\n",
       "0   01  [hydroxychloroquine, proving, an, effective, t...   2.1\n",
       "1   02  [exclusive, realdonaldtrump, s, campaign, has,...  -1.3\n",
       "2   03  [psalm, 33, 18, 20, but, the, lord, watches, o...  11.5\n",
       "3   04  [my, latest, colum, for, thehill, how, deadly,...  17.9\n",
       "4   05  [pic, twitter, com, wxqib5br4z, thank, you, to...  20.6"
      ]
     },
     "execution_count": 15,
     "metadata": {},
     "output_type": "execute_result"
    }
   ],
   "source": [
    "# generate Trump's sentiment, basically the same method as with the population sentiment\n",
    "\n",
    "trump_daily = []\n",
    "for i in tqdm(range(len(trump_sent))):\n",
    "    temp = 0\n",
    "    for ii in trump_sent.iloc[i,1]:\n",
    "        try:\n",
    "            temp = temp + float(sent.loc[ii])\n",
    "        except:\n",
    "            continue\n",
    "    trump_daily.append(temp)\n",
    "trump_sent['sent'] = trump_daily\n",
    "trump_sent.head()"
   ]
  },
  {
   "cell_type": "markdown",
   "metadata": {},
   "source": [
    "Now that I have both Trump's and population's sentiment for each day, I need to combine them to have the final usable table:"
   ]
  },
  {
   "cell_type": "code",
   "execution_count": 16,
   "metadata": {},
   "outputs": [
    {
     "data": {
      "text/html": [
       "<div>\n",
       "<style scoped>\n",
       "    .dataframe tbody tr th:only-of-type {\n",
       "        vertical-align: middle;\n",
       "    }\n",
       "\n",
       "    .dataframe tbody tr th {\n",
       "        vertical-align: top;\n",
       "    }\n",
       "\n",
       "    .dataframe thead th {\n",
       "        text-align: right;\n",
       "    }\n",
       "</style>\n",
       "<table border=\"1\" class=\"dataframe\">\n",
       "  <thead>\n",
       "    <tr style=\"text-align: right;\">\n",
       "      <th></th>\n",
       "      <th>Trump</th>\n",
       "      <th>Population</th>\n",
       "      <th>Date</th>\n",
       "    </tr>\n",
       "  </thead>\n",
       "  <tbody>\n",
       "    <tr>\n",
       "      <td>0</td>\n",
       "      <td>2.1</td>\n",
       "      <td>-14991.7</td>\n",
       "      <td>01</td>\n",
       "    </tr>\n",
       "    <tr>\n",
       "      <td>1</td>\n",
       "      <td>-1.3</td>\n",
       "      <td>-4487.0</td>\n",
       "      <td>02</td>\n",
       "    </tr>\n",
       "    <tr>\n",
       "      <td>2</td>\n",
       "      <td>11.5</td>\n",
       "      <td>30995.0</td>\n",
       "      <td>03</td>\n",
       "    </tr>\n",
       "    <tr>\n",
       "      <td>3</td>\n",
       "      <td>17.9</td>\n",
       "      <td>-7351.0</td>\n",
       "      <td>04</td>\n",
       "    </tr>\n",
       "    <tr>\n",
       "      <td>4</td>\n",
       "      <td>20.6</td>\n",
       "      <td>14924.5</td>\n",
       "      <td>05</td>\n",
       "    </tr>\n",
       "  </tbody>\n",
       "</table>\n",
       "</div>"
      ],
      "text/plain": [
       "   Trump  Population Date\n",
       "0    2.1    -14991.7   01\n",
       "1   -1.3     -4487.0   02\n",
       "2   11.5     30995.0   03\n",
       "3   17.9     -7351.0   04\n",
       "4   20.6     14924.5   05"
      ]
     },
     "execution_count": 16,
     "metadata": {},
     "output_type": "execute_result"
    }
   ],
   "source": [
    "# Combine the population sentiment list with the trump sentiment list to produce our final table\n",
    "\n",
    "final = pd.DataFrame(senti_day[14:], trump_daily)\n",
    "final = final.reset_index()\n",
    "final.rename(columns = {0:'Population', 'index':'Trump'}, inplace = True)\n",
    "final['Date'] = trump_sent.date\n",
    "# final.Trump = final.Trump.abs()\n",
    "final.head()"
   ]
  },
  {
   "cell_type": "markdown",
   "metadata": {},
   "source": [
    "Eventually, I have the data I need. As discussed above, looking for and generating the data is quite a long journey! The independent vaariable I will use is Trump's sentiment (Trump in the df), while the dependent variable is Population sentiment(Population in the df). For eaach entry (row) in the df, it represents on a specific day, the values for Trump's and Population's sentiment."
   ]
  },
  {
   "cell_type": "markdown",
   "metadata": {},
   "source": [
    "If I could change the dataset in one way, I would make it divided by 12 hours instead of by day, or even smaller amount of time, such as Morning, Afternoon, Evening, and Midnight, etc.. In this way, I can inspect more closely the association. Also, right now if Trump post a tweet near midnight, the reaction of the public (vise versa) will be in the next day's data, which cause the association we want to test not accurate."
   ]
  },
  {
   "cell_type": "markdown",
   "metadata": {},
   "source": [
    "<b>"
   ]
  },
  {
   "cell_type": "markdown",
   "metadata": {},
   "source": [
    "## Part 3: Visualization"
   ]
  },
  {
   "cell_type": "markdown",
   "metadata": {},
   "source": [
    "Scatter plot is typically suitable for 2-D dataset. Here I choose scatter plot to see the general association of the sentiment. For example, I want to see whether they share positive or negative relation, or no relation at all."
   ]
  },
  {
   "cell_type": "code",
   "execution_count": 17,
   "metadata": {},
   "outputs": [
    {
     "data": {
      "image/png": "[encoded data removed]",
      "text/plain": [
       "<Figure size 432x288 with 1 Axes>"
      ]
     },
     "metadata": {
      "needs_background": "light"
     },
     "output_type": "display_data"
    }
   ],
   "source": [
    "# first generate a normal scatter plot to see the general trend\n",
    "# it appears kinda positive\n",
    "\n",
    "plt.scatter(final.Trump, final.Population)\n",
    "plt.title(f'Scatterplot for Apr.1st - Apr.28th')\n",
    "plt.xlabel('Trump Sentiment')\n",
    "plt.ylabel('Population Sentiment')\n",
    "plt.show()"
   ]
  },
  {
   "cell_type": "markdown",
   "metadata": {},
   "source": [
    "In the graph, I can see a general positive trend, but with some outliers at the bottom right corner. They indicate that Trump is very happy while the population is very unhappy. It seems interesting and one can go on and study those three days to see why, but to focus on my goal, here I will not follow that path."
   ]
  },
  {
   "cell_type": "markdown",
   "metadata": {},
   "source": [
    "Next I want to see if the two variables share synchronous relationship, ie, if they increase or decrease at the same time. So I choose line plot, which is great for data through time."
   ]
  },
  {
   "cell_type": "code",
   "execution_count": 18,
   "metadata": {},
   "outputs": [
    {
     "data": {
      "image/png": "[encoded data removed]",
      "text/plain": [
       "<Figure size 432x288 with 1 Axes>"
      ]
     },
     "metadata": {
      "needs_background": "light"
     },
     "output_type": "display_data"
    }
   ],
   "source": [
    "# next, scale the data with sklearn\n",
    "\n",
    "final_scaled = final.copy()\n",
    "final_scaled.Trump = preprocessing.minmax_scale(final.Trump, feature_range = (-35, 60))\n",
    "final_scaled.Population = preprocessing.minmax_scale(final.Population, feature_range = (-35, 60))\n",
    "\n",
    "plt.plot(final_scaled.Date, final_scaled.Population)\n",
    "plt.plot(final_scaled.Date, final_scaled.Trump)\n",
    "#plt.scatter(final_scaled.Date, final_scaled.Population, c = final_scaled.Trump)\n",
    "plt.title('Line Plot of Trump and Population Sentiment Through Time')\n",
    "plt.xlabel('Date')\n",
    "plt.ylabel('Sentiment')\n",
    "plt.gca().legend(('Population','Trump'), loc = 'upper right')\n",
    "plt.xticks(rotation = -60)\n",
    "plt.show()"
   ]
  },
  {
   "cell_type": "markdown",
   "metadata": {},
   "source": [
    "In the graph, I can see that Trump is more \"steady\" than the population, meaning that his line go up and down without much fluctuation. However, the population is opposite. When Trump's line increase over a period, the population line could be increase then decrease then increase (such as from 02 to 05). It has more fluctuation. In general, althought not explicit, I believe one can conclude that they are synchronous."
   ]
  },
  {
   "cell_type": "markdown",
   "metadata": {},
   "source": [
    "<b>"
   ]
  },
  {
   "cell_type": "markdown",
   "metadata": {},
   "source": [
    "## Part 4: Hypothesis Forming"
   ]
  },
  {
   "cell_type": "markdown",
   "metadata": {},
   "source": [
    "#### Variables"
   ]
  },
  {
   "cell_type": "markdown",
   "metadata": {},
   "source": [
    "* _Independent_ : Trump's Sentiment, how to measure was discussed in Part 2\n",
    "* _Dependent_ : Population's sentiment, how to measure was discussed in Part 2"
   ]
  },
  {
   "cell_type": "markdown",
   "metadata": {},
   "source": [
    "#### Correlation Coefficient"
   ]
  },
  {
   "cell_type": "code",
   "execution_count": 19,
   "metadata": {},
   "outputs": [
    {
     "data": {
      "text/plain": [
       "0.17152127375453718"
      ]
     },
     "execution_count": 19,
     "metadata": {},
     "output_type": "execute_result"
    }
   ],
   "source": [
    "correlation_matrix = final_scaled[['Trump','Population']].corr()\n",
    "corr = correlation_matrix.iloc[1,0]\n",
    "corr"
   ]
  },
  {
   "cell_type": "markdown",
   "metadata": {},
   "source": [
    "There is 17.15% correlation, which is lower than what I expected. However, it still shows a weak uphill (positive) linear relationship."
   ]
  },
  {
   "cell_type": "markdown",
   "metadata": {},
   "source": [
    "#### Regression Equation"
   ]
  },
  {
   "cell_type": "markdown",
   "metadata": {},
   "source": [
    "I'm using the basic linear regression as I only have one independent variable, and the plot doesn't seem to show a non-linear relationship"
   ]
  },
  {
   "cell_type": "markdown",
   "metadata": {},
   "source": [
    "<center>Population Sentiment $ = $ $\\beta_0$ + $\\beta_1$ $\\times$ Trump sentiment<center>"
   ]
  },
  {
   "cell_type": "markdown",
   "metadata": {},
   "source": [
    "* **$\\beta_0$** is the intercept, ie. when Trump has no sentiment, the value of public sentiment.\n",
    "* **$\\beta_1$** is the gradient, ie. how the dependent vaariable in/decrease according to the independent variable."
   ]
  },
  {
   "cell_type": "markdown",
   "metadata": {},
   "source": [
    "#### Null and Alternative Hypothesis"
   ]
  },
  {
   "cell_type": "markdown",
   "metadata": {},
   "source": [
    "* **$H_0$**: $\\beta_1 = 0$   (Trump's Twitter sentiment has _**NO**_ effect on population Corona-related sentiment)\n",
    "* **$H_A$**: $\\beta_1 \\neq 0$   (Trump's Twitter sentiment has _**CERTAIN**_ effect on population Corona-related sentiment)"
   ]
  },
  {
   "cell_type": "markdown",
   "metadata": {},
   "source": [
    "<B>"
   ]
  },
  {
   "cell_type": "markdown",
   "metadata": {},
   "source": [
    "## Part 5: Regression Analysis"
   ]
  },
  {
   "cell_type": "markdown",
   "metadata": {},
   "source": [
    "First, get all the stats from the module statsmodels:"
   ]
  },
  {
   "cell_type": "code",
   "execution_count": 20,
   "metadata": {},
   "outputs": [
    {
     "name": "stdout",
     "output_type": "stream",
     "text": [
      "                            OLS Regression Results                            \n",
      "==============================================================================\n",
      "Dep. Variable:             Population   R-squared:                       0.029\n",
      "Model:                            OLS   Adj. R-squared:                 -0.008\n",
      "Method:                 Least Squares   F-statistic:                    0.7881\n",
      "Date:                Sun, 03 May 2020   Prob (F-statistic):              0.383\n",
      "Time:                        18:21:35   Log-Likelihood:                -129.07\n",
      "No. Observations:                  28   AIC:                             262.1\n",
      "Df Residuals:                      26   BIC:                             264.8\n",
      "Df Model:                           1                                         \n",
      "Covariance Type:            nonrobust                                         \n",
      "==============================================================================\n",
      "                 coef    std err          t      P>|t|      [0.025      0.975]\n",
      "------------------------------------------------------------------------------\n",
      "Intercept      0.9189      5.556      0.165      0.870     -10.503      12.340\n",
      "Trump          0.2017      0.227      0.888      0.383      -0.265       0.669\n",
      "==============================================================================\n",
      "Omnibus:                        0.305   Durbin-Watson:                   1.291\n",
      "Prob(Omnibus):                  0.859   Jarque-Bera (JB):                0.453\n",
      "Skew:                           0.197   Prob(JB):                        0.797\n",
      "Kurtosis:                       2.518   Cond. No.                         28.5\n",
      "==============================================================================\n",
      "\n",
      "Warnings:\n",
      "[1] Standard Errors assume that the covariance matrix of the errors is correctly specified.\n"
     ]
    }
   ],
   "source": [
    "stats_result = sm.ols(formula = 'Population ~ Trump', data = final_scaled).fit()\n",
    "print(stats_result.summary())"
   ]
  },
  {
   "cell_type": "markdown",
   "metadata": {},
   "source": [
    "#### Coefficients"
   ]
  },
  {
   "cell_type": "markdown",
   "metadata": {},
   "source": [
    "* $\\beta_0 = 0.9189$ \n",
    "* $\\beta_1 = 0.2017$"
   ]
  },
  {
   "cell_type": "markdown",
   "metadata": {},
   "source": [
    "The intercept indicates that when Trump has no sentiment (Trump = 0), the public sentiment is also very close to zero as well, 0.9189. The gradient indicates that with each 1 unit of increase/decrease in Trump's sentiment, the public sentiment increase/decrease by 0.2017 unit."
   ]
  },
  {
   "cell_type": "markdown",
   "metadata": {},
   "source": [
    "*  $for$ $\\beta_1,$ $P>|t| = 0.383$"
   ]
  },
  {
   "cell_type": "markdown",
   "metadata": {},
   "source": [
    "This indicates that when the null hyptothesis is true, we have 0.383 chance that our test statistics is higher than that we got for $\\beta_1$. In the language of bootstrap sampling, this roughly corresponds to generating 1 thousand simulated datasets, and seeing 383 with a test statistic this extreme."
   ]
  },
  {
   "cell_type": "markdown",
   "metadata": {},
   "source": [
    "#### 95% CI for $\\beta_1$"
   ]
  },
  {
   "cell_type": "markdown",
   "metadata": {},
   "source": [
    "* $[-0.265,0.669]$"
   ]
  },
  {
   "cell_type": "markdown",
   "metadata": {},
   "source": [
    "This means that if we repeatedly sampled Trump sentiment and Population sentiment data over and over again, we'd expect that 95% of the time the mean value of $\\beta_1$ of these samples would lie between -0.265 and 0.669."
   ]
  },
  {
   "cell_type": "markdown",
   "metadata": {},
   "source": [
    "$R^2$"
   ]
  },
  {
   "cell_type": "markdown",
   "metadata": {},
   "source": [
    "* $0.029$"
   ]
  },
  {
   "cell_type": "markdown",
   "metadata": {},
   "source": [
    "This indicates that 2.9% of the variation in public sentiment is explained by the sentiment of Trump. It also tells us that the data doesn't fit our model that well, ie, they are not close to the best fit line enough."
   ]
  },
  {
   "cell_type": "markdown",
   "metadata": {},
   "source": [
    "#### Plot"
   ]
  },
  {
   "cell_type": "markdown",
   "metadata": {},
   "source": [
    "Finally, we see the regplot by seaborn:"
   ]
  },
  {
   "cell_type": "code",
   "execution_count": 21,
   "metadata": {},
   "outputs": [
    {
     "data": {
      "image/png": "[encoded data removed]",
      "text/plain": [
       "<Figure size 432x288 with 1 Axes>"
      ]
     },
     "metadata": {
      "needs_background": "light"
     },
     "output_type": "display_data"
    }
   ],
   "source": [
    "sns.regplot(x = 'Trump', y = 'Population', data = final_scaled)\n",
    "plt.show()"
   ]
  },
  {
   "cell_type": "markdown",
   "metadata": {},
   "source": [
    "#### Test Result"
   ]
  },
  {
   "cell_type": "markdown",
   "metadata": {},
   "source": [
    "Since the p=value is larger than 0.05, I fail to reject the null hypothesis. So there's no apparent associaation between Trump's twitter sentiment and population sentiment. This might not be a good sign for his reelection, just kidding!"
   ]
  },
  {
   "cell_type": "markdown",
   "metadata": {},
   "source": [
    "#### Residual Plot"
   ]
  },
  {
   "cell_type": "code",
   "execution_count": 22,
   "metadata": {},
   "outputs": [
    {
     "data": {
      "image/png": "[encoded data removed]",
      "text/plain": [
       "<Figure size 432x288 with 1 Axes>"
      ]
     },
     "metadata": {
      "needs_background": "light"
     },
     "output_type": "display_data"
    }
   ],
   "source": [
    "sns.regplot(x = 'Trump', y = stats_result.resid, data = final_scaled)\n",
    "plt.show()"
   ]
  },
  {
   "cell_type": "markdown",
   "metadata": {},
   "source": [
    "Here we see that the points are pretty random -- they are all over the place, without explicit positive or negative trend. There's no sign for heteroskedasticity. This means that my statistical inference and model is valid."
   ]
  },
  {
   "cell_type": "markdown",
   "metadata": {},
   "source": [
    "<b>"
   ]
  },
  {
   "cell_type": "markdown",
   "metadata": {},
   "source": [
    "## Part 6: Conclusion"
   ]
  },
  {
   "cell_type": "markdown",
   "metadata": {},
   "source": [
    "#### Bias"
   ]
  },
  {
   "cell_type": "markdown",
   "metadata": {},
   "source": [
    "First, as mentioned earlier, I failed to get the data divided with more precise period of time, such as by half a day or morning, afternoon and so on. The trend might be different with smaller time window, and the increase/decrease of the two variable might be more synchronous. Second, the population dataset was actually collected by a thrid party. Although I don't know the detailed process, they are unlikely to collect every related tweet and produce the gram frequency table. For example, Elon Musk several days ago tweeted \"FREE AMERICA NOW\", if afterwards someone tweets saying \"Hell No!\"/\"Hell Yes!\" as a reply to his tweet but without direct retweeting or commenting, I don't think the latter tweet would be collected as it has no direct link to Coronavirus. I believe machine learning algorithms are not able to correctly classify these two words. So that is to say, unless with human inspection (may fail also), the dataset could be reflecting only a part of the population sentiment. The true association would've been different."
   ]
  },
  {
   "cell_type": "markdown",
   "metadata": {},
   "source": [
    "#### Test Conclusion"
   ]
  },
  {
   "cell_type": "markdown",
   "metadata": {},
   "source": [
    "Following principles of the test, I believe there is no apparent link between Trump's twitter sentiment and the general population's twitter sentiment."
   ]
  },
  {
   "cell_type": "markdown",
   "metadata": {},
   "source": [
    "#### Weakness of The Project"
   ]
  },
  {
   "cell_type": "markdown",
   "metadata": {},
   "source": [
    "* As mentioned quite a few times earlier, the division of time is not perfect.\n",
    "* I assume that the vocabs that are not in sent df have sentiment zero, but that is a limitation of VADER sentiment.\n",
    "* VADER sentiment might not be accurate. For example, what's the sentiment of \"Hell\" as in \"Hell Yes!\"?\n",
    "* I selected all Trump's twitter from 4/1 to 4/28. Perhaps the tweets of his that is not related to COVID-19 is what cause our test to be not rejected. That needs further evaluation.\n",
    "* I only selected April due to the limitation of datasets, however, things could've been different with wider data range\n",
    "*"
   ]
  }
 ],
 "metadata": {
  "kernelspec": {
   "display_name": "Python 3",
   "language": "python",
   "name": "python3"
  },
  "language_info": {
   "codemirror_mode": {
    "name": "ipython",
    "version": 3
   },
   "file_extension": ".py",
   "mimetype": "text/x-python",
   "name": "python",
   "nbconvert_exporter": "python",
   "pygments_lexer": "ipython3",
   "version": "3.7.4"
  }
 },
 "nbformat": 4,
 "nbformat_minor": 2
}
